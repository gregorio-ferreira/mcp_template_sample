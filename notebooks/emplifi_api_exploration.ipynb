{
 "cells": [
  {
   "cell_type": "markdown",
   "id": "61cb05b3",
   "metadata": {},
   "source": [
    "# Emplifi API Exploration - Debugging Syngenta Flowers Query\n",
    "\n",
    "This notebook helps debug why the Syngenta Flowers query (ID: LNQ_1140092_641afbbd98a766f5eb4a4915) is returning 0 posts and 0 metrics data points. We'll systematically test the API to understand what data is available and why our integration test shows no results."
   ]
  },
  {
   "cell_type": "markdown",
   "id": "fda5f54f",
   "metadata": {},
   "source": [
    "## Import Required Libraries\n",
    "\n",
    "Import necessary libraries including our custom Emplifi API modules, pandas for data analysis, and datetime for date range testing."
   ]
  },
  {
   "cell_type": "code",
   "execution_count": 1,
   "id": "6fbcd1b0",
   "metadata": {},
   "outputs": [
    {
     "name": "stdout",
     "output_type": "stream",
     "text": [
      "✅ Libraries imported successfully\n",
      "📁 Working from: /home/gferreir/mines/mcp/mcp_template/notebooks\n",
      "📦 Source directory: /home/gferreir/mines/mcp/mcp_template/src\n"
     ]
    }
   ],
   "source": [
    "import sys\n",
    "import os\n",
    "from pathlib import Path\n",
    "import pandas as pd\n",
    "import json\n",
    "from datetime import datetime, timedelta, timezone\n",
    "from typing import Any, Dict, List\n",
    "\n",
    "# Add the src directory to the path so we can import our modules\n",
    "notebook_dir = Path().resolve()\n",
    "src_dir = notebook_dir.parent / \"src\"\n",
    "sys.path.insert(0, str(src_dir))\n",
    "\n",
    "# Import our Emplifi tools\n",
    "from mcp_server.tools.emplifi_tools import (\n",
    "    list_listening_queries,\n",
    "    fetch_listening_posts,\n",
    "    fetch_listening_metrics,\n",
    "    get_recent_posts,\n",
    "    get_daily_mention_metrics,\n",
    "    MetricConfig,\n",
    "    DimensionConfig,\n",
    "    PostsSort,\n",
    "    PostsFilter,\n",
    "    _get_auth_client,\n",
    "    _get_config\n",
    ")\n",
    "\n",
    "print(\"✅ Libraries imported successfully\")\n",
    "print(f\"📁 Working from: {notebook_dir}\")\n",
    "print(f\"📦 Source directory: {src_dir}\")"
   ]
  },
  {
   "cell_type": "markdown",
   "id": "50a6a840",
   "metadata": {},
   "source": [
    "## Setup API Configuration\n",
    "\n",
    "Configure API credentials and test the authentication to ensure we can connect to the Emplifi API."
   ]
  },
  {
   "cell_type": "code",
   "execution_count": 2,
   "id": "c525e32c",
   "metadata": {},
   "outputs": [
    {
     "name": "stdout",
     "output_type": "stream",
     "text": [
      "📋 Configuration loaded:\n",
      "   OAuth Client ID: ❌ Not set\n",
      "   Basic Token: ✅ Set\n",
      "   Basic Secret: ✅ Set\n",
      "\n",
      "🔐 Authentication: Basic\n",
      "   Headers obtained: ✅ Success\n"
     ]
    }
   ],
   "source": [
    "# Test API configuration\n",
    "try:\n",
    "    config = _get_config()\n",
    "    print(\"📋 Configuration loaded:\")\n",
    "    print(f\"   OAuth Client ID: {'✅ Set' if config.client_id else '❌ Not set'}\")\n",
    "    print(f\"   Basic Token: {'✅ Set' if config.basic_token else '❌ Not set'}\")\n",
    "    print(f\"   Basic Secret: {'✅ Set' if config.basic_secret else '❌ Not set'}\")\n",
    "    \n",
    "    # Test authentication\n",
    "    auth_client = _get_auth_client()\n",
    "    headers = await auth_client.get_auth_headers()\n",
    "    \n",
    "    auth_type = \"Basic\" if config.basic_token else \"OAuth\"\n",
    "    print(f\"\\n🔐 Authentication: {auth_type}\")\n",
    "    print(f\"   Headers obtained: {'✅ Success' if headers else '❌ Failed'}\")\n",
    "    \n",
    "except Exception as e:\n",
    "    print(f\"❌ Configuration error: {e}\")\n",
    "    print(\"\\n💡 Make sure your .env file contains either:\")\n",
    "    print(\"   - EMPLIFI_TOKEN and EMPLIFI_SECRET (for Basic auth)\")\n",
    "    print(\"   - Or EMPLIFI_CLIENT_ID, EMPLIFI_CLIENT_SECRET, EMPLIFI_REDIRECT_URI (for OAuth)\")"
   ]
  },
  {
   "cell_type": "markdown",
   "id": "16c880b5",
   "metadata": {},
   "source": [
    "## Retrieve All Listening Queries\n",
    "\n",
    "Fetch all available listening queries to verify the total count and examine the query structure."
   ]
  },
  {
   "cell_type": "code",
   "execution_count": 3,
   "id": "162f9d02",
   "metadata": {},
   "outputs": [
    {
     "name": "stdout",
     "output_type": "stream",
     "text": [
      "🔍 Fetching all listening queries...\n",
      "\n",
      "📊 Total queries found: 286\n",
      "\n",
      "📋 Query Status Summary:\n",
      "   Running: 257 queries\n",
      "   Regulated: 13 queries\n",
      "   Paused: 11 queries\n",
      "   Done: 5 queries\n",
      "\n",
      "📝 Sample queries (first 5):\n",
      "\n",
      "📊 Total queries found: 286\n",
      "\n",
      "📋 Query Status Summary:\n",
      "   Running: 257 queries\n",
      "   Regulated: 13 queries\n",
      "   Paused: 11 queries\n",
      "   Done: 5 queries\n",
      "\n",
      "📝 Sample queries (first 5):\n"
     ]
    },
    {
     "data": {
      "application/vnd.microsoft.datawrangler.viewer.v0+json": {
       "columns": [
        {
         "name": "index",
         "rawType": "int64",
         "type": "integer"
        },
        {
         "name": "id",
         "rawType": "object",
         "type": "string"
        },
        {
         "name": "name",
         "rawType": "object",
         "type": "string"
        },
        {
         "name": "description",
         "rawType": "object",
         "type": "unknown"
        },
        {
         "name": "status",
         "rawType": "object",
         "type": "string"
        }
       ],
       "ref": "d0f43993-5108-4260-9bd9-e8daf0483faf",
       "rows": [
        [
         "0",
         "LNQ_1140092_641afbbd98a766f5eb4a4915",
         "Syngenta Flowers",
         null,
         "Running"
        ],
        [
         "1",
         "LNQ_1140092_6433af2612abdcc89485af76",
         "Canada Seedcare Products",
         null,
         "Running"
        ],
        [
         "2",
         "LNQ_1140092_644a178fa2cd1efe2f4427b6",
         "Bettina PQT 2025",
         null,
         "Running"
        ],
        [
         "3",
         "LNQ_1140092_6450290f66aaefdf461ee521",
         "Canada Herbicides ",
         null,
         "Running"
        ],
        [
         "4",
         "LNQ_1140092_64502c2d85a9bb0da5823d90",
         "Canada Fungicides ",
         null,
         "Running"
        ]
       ],
       "shape": {
        "columns": 4,
        "rows": 5
       }
      },
      "text/html": [
       "<div>\n",
       "<style scoped>\n",
       "    .dataframe tbody tr th:only-of-type {\n",
       "        vertical-align: middle;\n",
       "    }\n",
       "\n",
       "    .dataframe tbody tr th {\n",
       "        vertical-align: top;\n",
       "    }\n",
       "\n",
       "    .dataframe thead th {\n",
       "        text-align: right;\n",
       "    }\n",
       "</style>\n",
       "<table border=\"1\" class=\"dataframe\">\n",
       "  <thead>\n",
       "    <tr style=\"text-align: right;\">\n",
       "      <th></th>\n",
       "      <th>id</th>\n",
       "      <th>name</th>\n",
       "      <th>description</th>\n",
       "      <th>status</th>\n",
       "    </tr>\n",
       "  </thead>\n",
       "  <tbody>\n",
       "    <tr>\n",
       "      <th>0</th>\n",
       "      <td>LNQ_1140092_641afbbd98a766f5eb4a4915</td>\n",
       "      <td>Syngenta Flowers</td>\n",
       "      <td>None</td>\n",
       "      <td>Running</td>\n",
       "    </tr>\n",
       "    <tr>\n",
       "      <th>1</th>\n",
       "      <td>LNQ_1140092_6433af2612abdcc89485af76</td>\n",
       "      <td>Canada Seedcare Products</td>\n",
       "      <td>None</td>\n",
       "      <td>Running</td>\n",
       "    </tr>\n",
       "    <tr>\n",
       "      <th>2</th>\n",
       "      <td>LNQ_1140092_644a178fa2cd1efe2f4427b6</td>\n",
       "      <td>Bettina PQT 2025</td>\n",
       "      <td>None</td>\n",
       "      <td>Running</td>\n",
       "    </tr>\n",
       "    <tr>\n",
       "      <th>3</th>\n",
       "      <td>LNQ_1140092_6450290f66aaefdf461ee521</td>\n",
       "      <td>Canada Herbicides</td>\n",
       "      <td>None</td>\n",
       "      <td>Running</td>\n",
       "    </tr>\n",
       "    <tr>\n",
       "      <th>4</th>\n",
       "      <td>LNQ_1140092_64502c2d85a9bb0da5823d90</td>\n",
       "      <td>Canada Fungicides</td>\n",
       "      <td>None</td>\n",
       "      <td>Running</td>\n",
       "    </tr>\n",
       "  </tbody>\n",
       "</table>\n",
       "</div>"
      ],
      "text/plain": [
       "                                     id                      name description  \\\n",
       "0  LNQ_1140092_641afbbd98a766f5eb4a4915          Syngenta Flowers        None   \n",
       "1  LNQ_1140092_6433af2612abdcc89485af76  Canada Seedcare Products        None   \n",
       "2  LNQ_1140092_644a178fa2cd1efe2f4427b6          Bettina PQT 2025        None   \n",
       "3  LNQ_1140092_6450290f66aaefdf461ee521        Canada Herbicides         None   \n",
       "4  LNQ_1140092_64502c2d85a9bb0da5823d90        Canada Fungicides         None   \n",
       "\n",
       "    status  \n",
       "0  Running  \n",
       "1  Running  \n",
       "2  Running  \n",
       "3  Running  \n",
       "4  Running  "
      ]
     },
     "metadata": {},
     "output_type": "display_data"
    }
   ],
   "source": [
    "# Fetch all listening queries\n",
    "try:\n",
    "    print(\"🔍 Fetching all listening queries...\")\n",
    "    queries = await list_listening_queries()\n",
    "    \n",
    "    print(f\"\\n📊 Total queries found: {len(queries)}\")\n",
    "    \n",
    "    # Convert to DataFrame for better analysis\n",
    "    if queries:\n",
    "        query_data = []\n",
    "        for q in queries:\n",
    "            query_data.append({\n",
    "                'id': q.id,\n",
    "                'name': q.name,\n",
    "                'description': q.description,\n",
    "                'status': q.status\n",
    "            })\n",
    "        \n",
    "        df_queries = pd.DataFrame(query_data)\n",
    "        \n",
    "        print(\"\\n📋 Query Status Summary:\")\n",
    "        status_counts = df_queries['status'].value_counts()\n",
    "        for status, count in status_counts.items():\n",
    "            print(f\"   {status}: {count} queries\")\n",
    "        \n",
    "        print(\"\\n📝 Sample queries (first 5):\")\n",
    "        display(df_queries.head())\n",
    "        \n",
    "        # Store for later use\n",
    "        all_queries = queries\n",
    "        \n",
    "    else:\n",
    "        print(\"❌ No queries found\")\n",
    "        \n",
    "except Exception as e:\n",
    "    print(f\"❌ Error fetching queries: {e}\")\n",
    "    import traceback\n",
    "    print(\"\\n🔍 Full error details:\")\n",
    "    traceback.print_exc()"
   ]
  },
  {
   "cell_type": "code",
   "execution_count": 4,
   "id": "f043b5b4",
   "metadata": {},
   "outputs": [],
   "source": [
    "# save df_queries to path /home/gferreir/mines/emplifi_listening_api/data\n",
    "# df_queries.to_csv(\"/home/gferreir/mines/emplifi_listening_api/data/emplifi_listening_queries.csv\", index=False)\n",
    "\n"
   ]
  },
  {
   "cell_type": "markdown",
   "id": "fd7447ab",
   "metadata": {},
   "source": [
    "~~ ## Find Syngenta Flowers Query ~~ \n",
    "\n",
    "Search for and examine the specific Syngenta Flowers query to understand its configuration."
   ]
  },
  {
   "cell_type": "code",
   "execution_count": 5,
   "id": "35feecf3",
   "metadata": {},
   "outputs": [
    {
     "name": "stdout",
     "output_type": "stream",
     "text": [
      "✅ Found BAYER  query!\n",
      "   ID: LNQ_1140092_66fe2dcd3e9eb298096e8db3\n",
      "   Name: BAYER \n",
      "   Description: None\n",
      "   Status: Running\n",
      "✅ Name matches expected value\n",
      "✅ Query appears to be active\n"
     ]
    }
   ],
   "source": [
    "# Constants for our target query\n",
    "# 94\t('id', '')\t('name', 'BAYER ')\t('description', None)\t('status', 'Running')\n",
    "TARGET_QUERY_ID = \"LNQ_1140092_66fe2dcd3e9eb298096e8db3\"\n",
    "TARGET_QUERY_NAME = \"BAYER \"\n",
    "\n",
    "# TARGET_QUERY_ID = \"LNQ_1140092_641afbbd98a766f5eb4a4915\"\n",
    "# TARGET_QUERY_NAME = \"Syngenta Flowers\"\n",
    "\n",
    "# Find the Syngenta Flowers query\n",
    "syngenta_query = None\n",
    "if 'all_queries' in locals():\n",
    "    for query in all_queries:\n",
    "        if query.id == TARGET_QUERY_ID:\n",
    "            syngenta_query = query\n",
    "            break\n",
    "\n",
    "if syngenta_query:\n",
    "    print(f\"✅ Found {TARGET_QUERY_NAME} query!\")\n",
    "    print(f\"   ID: {syngenta_query.id}\")\n",
    "    print(f\"   Name: {syngenta_query.name}\")\n",
    "    print(f\"   Description: {syngenta_query.description or 'None'}\")\n",
    "    print(f\"   Status: {syngenta_query.status}\")\n",
    "    \n",
    "    # Check if name matches expected\n",
    "    if syngenta_query.name == TARGET_QUERY_NAME:\n",
    "        print(\"✅ Name matches expected value\")\n",
    "    else:\n",
    "        print(f\"⚠️  Name mismatch: expected '{TARGET_QUERY_NAME}', got '{syngenta_query.name}'\")\n",
    "    \n",
    "    # Check status\n",
    "    if syngenta_query.status and syngenta_query.status.lower() in ['running', 'active']:\n",
    "        print(\"✅ Query appears to be active\")\n",
    "    else:\n",
    "        print(f\"⚠️  Query status may be inactive: {syngenta_query.status}\")\n",
    "        \n",
    "else:\n",
    "    print(f\"❌ {TARGET_QUERY_NAME} query not found!\")\n",
    "    print(f\"   Looking for ID: {TARGET_QUERY_ID}\")\n",
    "    print(f\"   Looking for name: {TARGET_QUERY_NAME}\")\n",
    "    \n",
    "    # Search by name in case ID changed\n",
    "    print(\"\\n🔍 Searching by name...\")\n",
    "    name_matches = [q for q in all_queries if 'syngenta' in q.name.lower() or 'flower' in q.name.lower()]\n",
    "    if name_matches:\n",
    "        print(f\"   Found {len(name_matches)} potential matches:\")\n",
    "        for q in name_matches:\n",
    "            print(f\"     - {q.name} ({q.id}) - Status: {q.status}\")\n",
    "    else:\n",
    "        print(\"   No queries found containing 'syngenta' or 'flower'\")"
   ]
  },
  {
   "cell_type": "markdown",
   "id": "c8f716d6",
   "metadata": {},
   "source": [
    "_____________________________"
   ]
  },
  {
   "cell_type": "code",
   "execution_count": 6,
   "id": "da2e142c",
   "metadata": {},
   "outputs": [],
   "source": [
    "# read the df\n",
    "df_queries = pd.read_csv(\"/home/gferreir/mines/emplifi_listening_api/data/emplifi_listening_queries.csv\")\n",
    "\n",
    "TARGET_QUERY_ID = \"LNQ_1140092_66fe2dcd3e9eb298096e8db3\"\n",
    "TARGET_QUERY_NAME = \"BAYER \""
   ]
  },
  {
   "cell_type": "markdown",
   "id": "8fb5c068",
   "metadata": {},
   "source": [
    "## Test Posts Retrieval\n",
    "\n",
    "Attempt to retrieve posts"
   ]
  },
  {
   "cell_type": "code",
   "execution_count": 7,
   "id": "f69aa831",
   "metadata": {},
   "outputs": [
    {
     "name": "stdout",
     "output_type": "stream",
     "text": [
      "\u001b[2m2025-08-12 19:59:56\u001b[0m [\u001b[32m\u001b[1minfo     \u001b[0m] \u001b[1mFetching posts with payload: {'listening_queries': ['LNQ_1140092_66fe2dcd3e9eb298096e8db3'], 'date_start': '2025-01-01', 'date_end': '2025-12-31', 'limit': 10, 'fields': ['id', 'created_time', 'platform', 'author', 'message', 'sentiment', 'interactions', 'url'], 'sort': [{'field': 'interactions', 'order': 'desc'}]}\u001b[0m\n",
      "\u001b[2m2025-08-12 19:59:57\u001b[0m [\u001b[32m\u001b[1minfo     \u001b[0m] \u001b[1mAPI response structure: ['success', 'data']\u001b[0m\n",
      "\u001b[2m2025-08-12 19:59:57\u001b[0m [\u001b[32m\u001b[1minfo     \u001b[0m] \u001b[1mPage 1: Found 10 posts        \u001b[0m\n",
      "\u001b[2m2025-08-12 19:59:57\u001b[0m [\u001b[32m\u001b[1minfo     \u001b[0m] \u001b[1mSuccessfully fetched 10 posts \u001b[0m\n",
      "   📊 Found 10 posts\n",
      "\u001b[2m2025-08-12 19:59:57\u001b[0m [\u001b[32m\u001b[1minfo     \u001b[0m] \u001b[1mAPI response structure: ['success', 'data']\u001b[0m\n",
      "\u001b[2m2025-08-12 19:59:57\u001b[0m [\u001b[32m\u001b[1minfo     \u001b[0m] \u001b[1mPage 1: Found 10 posts        \u001b[0m\n",
      "\u001b[2m2025-08-12 19:59:57\u001b[0m [\u001b[32m\u001b[1minfo     \u001b[0m] \u001b[1mSuccessfully fetched 10 posts \u001b[0m\n",
      "   📊 Found 10 posts\n"
     ]
    }
   ],
   "source": [
    "start_date = \"2025-01-01\"\n",
    "end_date = \"2025-12-31\"\n",
    "\n",
    "posts = await fetch_listening_posts(\n",
    "                query_ids=[TARGET_QUERY_ID],\n",
    "                date_start=start_date,\n",
    "                date_end=end_date,\n",
    "                limit=10,  # Small limit for testing\n",
    "                max_pages=1\n",
    "            )\n",
    "\n",
    "posts_results = len(posts)\n",
    "print(f\"   📊 Found {len(posts)} posts\")"
   ]
  },
  {
   "cell_type": "code",
   "execution_count": 17,
   "id": "db214699",
   "metadata": {},
   "outputs": [
    {
     "data": {
      "application/vnd.microsoft.datawrangler.viewer.v0+json": {
       "columns": [
        {
         "name": "index",
         "rawType": "int64",
         "type": "integer"
        },
        {
         "name": "id",
         "rawType": "object",
         "type": "string"
        },
        {
         "name": "created_time",
         "rawType": "object",
         "type": "string"
        },
        {
         "name": "platform",
         "rawType": "object",
         "type": "string"
        },
        {
         "name": "author_id",
         "rawType": "object",
         "type": "unknown"
        },
        {
         "name": "author_name",
         "rawType": "object",
         "type": "unknown"
        },
        {
         "name": "author_url",
         "rawType": "object",
         "type": "unknown"
        },
        {
         "name": "message",
         "rawType": "object",
         "type": "string"
        },
        {
         "name": "sentiment",
         "rawType": "object",
         "type": "string"
        },
        {
         "name": "interactions",
         "rawType": "int64",
         "type": "integer"
        },
        {
         "name": "url",
         "rawType": "object",
         "type": "unknown"
        }
       ],
       "ref": "082740b4-3cf2-46bf-bb3b-43dae2a145ab",
       "rows": [
        [
         "0",
         "18054880931182875",
         "2025-04-12T11:00:00+00:00",
         "instagram",
         "17841400993243858",
         "Mark Hyman, M.D.",
         "https://www.instagram.com/drmarkhyman",
         "Not all produce is created equal.\n\nThanks to companies like Bayer (who bought Monsanto, the makers of Roundup), our food system is flooded with pesticides—many of which are linked to hormone disruption, neurological damage, and cancer. \n\nIn fact, the main chemical in Roundup—glyphosate—was classified as a probable human carcinogen by the World Health Organization. And yet, it’s still sprayed on crops all over the U.S.\n\nHere’s the good news:\nYou can reduce your exposure dramatically by following the EWG’s Dirty Dozen and Clean 15 lists.\n\n🧪 Dirty Dozen = the fruits and veggies with the highest pesticide residues. Always try to buy these organic if you can afford it. Note: these are still better than any ultra processed food.\n🥑 Clean 15 = produce with natural protection (like a peel or husk), and generally safe to buy conventional.\n\nGeneral rule: If it has a thick peel—like an avocado or banana—it’s likely safer. If you eat the whole thing—like spinach or strawberries—go organic.\n\nSave this for your next grocery trip. Small swaps = big impact on your health.",
         "negative",
         "50864",
         null
        ],
        [
         "1",
         "18062456180184551",
         "2025-07-11T10:52:30+00:00",
         "instagram",
         "17841404666905163",
         "VERSUS",
         "https://www.instagram.com/versus",
         "New Balance and Bayer Leverkusen have gone two-for-two, unveiling a clean away kit for the 2025/26 season.\n\nThe Werkself’s switch to New Balance came following the end of their four-year deal with Castore, and so far, it’s been all hits and no misses. While the home kit was a nod to the Bayer Cross, an iconic symbol of the city’s ties to science and medicine, the away nods to another landmark of Leverkusen, the Japanese Garden.\n\nLike most Bayer away kits, the jersey arrives with white, but the real talking point is the pink gradient on the upper torso. Embellished with a series of floral graphics, its inclusion comes as a reference to the garden’s cherry blossoms — a striking sight during the spring.\n\nThe look stretches from shoulder to shoulder and makes its way down the chest before fading into white. To contrast, both the club crest and New Balance logo are dipped in red, a design choice shared with the home kit, with the same shade paired with white to form a two-tone crewneck collar.\n\nThe jersey is powered by New Balance’s latest performance technology, with the Elite version sporting a close-fitting cut. Players and fans can keep cool and comfortable in the heat thanks to breathable mesh fabric, with a commitment to sustainability shown through the use of recycled polyester.\n\nThe New Balance and Bayer Leverkusen 2025/26 away kit is available now online and via select retailers.",
         "neutral",
         "39783",
         null
        ],
        [
         "2",
         "18060552065069111",
         "2025-03-19T17:26:48+00:00",
         "instagram",
         "17841400993243858",
         "Mark Hyman, M.D.",
         "https://www.instagram.com/drmarkhyman",
         "Drop a YES👇for a link to this full conversation!\n\nAmerican farmers are trapped in a system designed to keep them dependent on chemicals, pesticides, and foreign-owned corporations—and it’s draining billions from our economy.\n\nRight now, 200 million acres of U.S. farmland are used for industrial grain production. Farmers spend up to $400 per acre on chemical inputs—totaling a staggering $80 billion every year—money that doesn’t stay in the U.S. \n\nInstead, it goes straight to agrochemical giants like Monsanto (now owned by Germany’s Bayer) and Syngenta (owned by China).\n\nBut what if we stopped exporting our wealth and reinvested in American farmers?\n\niansomerhalder and I are breaking down Big Ag, pesticides, and the food system that’s keeping you sick. \n\nThe solutions are here. It’s time to start using them. Watch or listen now wherever you get podcasts 🎧 \n\nDrop a YES and we’ll DM you the link!",
         "negative",
         "29395",
         null
        ],
        [
         "3",
         "UmAJrhsLub8",
         "2025-08-03T10:00:43+00:00",
         "youtube",
         "UC3w193M5tYPJqF0Hi-7U-2g",
         "Dr. Eric Berg DC",
         "https://www.youtube.com/channel/UC3w193M5tYPJqF0Hi-7U-2g",
         "Fight back against the pesticide immunity bill! CLICK NOW:  https://standforhealthfreedom.com/actions/section453/\nhttp://www.stoppoison.org\n\nThis is so wrong! Chemical industries are attempting to pass pesticide immunity legislation granting legal immunity to the producers of pesticides, herbicides, fungicides, and insecticides. Find out what you can do to stop the pesticide immunity bill. Your health is on the line!\n\n0:00 Introduction: Legal immunity bill\n0:54 Failure-to-warn pesticide lawsuits \n1:45 Modern AG Alliance immunity \n2:35 Is glyphosate a carcinogen?\n3:19 Kelly Ryerson interview\n6:10 Can herbicide lawsuit protections be reversed?\n7:42 EPA-approved label immunity \n9:24 How to stop pesticide immunity bills\n\nDATA: \nhttps://glyphosatefacts.com/the-pesticide-immunity-shield/\nhttps://drbrg.co/4fsUtxh \n\nThis new chemical immunity bill pretends to support farmers while legally granting immunity from lawsuits against harm to the producers of pesticides, herbicides, fungicides, and insecticides. There have been billions of dollars in settlements from glyphosate, and there are currently 165,000 active cancer lawsuits against the producer. If this immunity bill passes, all of these lawsuits will go away!\n\nSection 453 of the bill grants legal immunity to domestic and foreign chemical producers. Future failure-to-warn pesticide lawsuits would be dismissed. \n\nWe often trust chemicals and drugs that are considered safe and effective, only to find out that they are actually deadly. This is due to a loophole allowing drug and chemical companies to keep negative safety studies confidential and unpublished. \n\nThe Modern Ag Alliance is a “front group” created by Bayer. They create grassroots movements to make it appear that most people agree that glyphosate is a critical farming tool. They claim that it's safe and vital to secure our food supply. \n\nGroups within the WHO have labeled glyphosate as a probable carcinogen for humans, and many people have won cancer lawsuits against the manufacturer. Despite the evidence, chemical companies are taking a food security stance, claiming we will starve without glyphosate.\n\nKelly Ryerson explains that if these companies achieve legal immunity, they will be allowed to continue to use chemicals that have been shown to cause health problems like Parkinson’s, cancer, ALS, infertility, and more, with no consequences! This agricultural chemical liability shield will be virtually impossible to reverse if passed.\n\nTo fight back against the pesticide legal immunity bill, contact your state senators and tell them you do not support any language granting legal immunity to chemical companies!\n\nDr. Eric Berg DC Bio:\nDr. Berg, age 60, is a chiropractor who specializes in Healthy Ketosis & Intermittent Fasting. He is the Director of Dr. Berg Nutritionals and author of the best-selling book The Healthy Keto Plan. He no longer practices, but focuses on health education through social media.\n\nFollow Me On Social Media:\nYouTube: https://www.youtube.com/@Drberg/\n\nYouTube Shorts: https://www.youtube.com/@UCpWhiwlOPxOmwQu5xyjtLDw \n\nKeto Recipes: https://www.youtube.com/@drbergketorecipes\n\nFacebook: https://www.facebook.com/drericberg \n\nInstagram:  https://www.instagram.com/drericberg/ \n\nSpotify Podcast: 🎧 https://drbrg.co/DrBerg-Spotify\n\nTikTok: https://www.tiktok.com/@drbergofficial \n\nX: https://x.com/dr_ericberg\n\nDisclaimer: \nDr. Eric Berg received his Doctor of Chiropractic degree from Palmer College of Chiropractic in 1988. His use of “doctor” or “Dr.” in relation to himself solely refers to that degree. Dr. Berg is a licensed chiropractor in Virginia, California, and Louisiana, but he no longer practices chiropractic in any state and does not see patients, so he can focus on educating people as a full-time activity, yet he maintains an active license. This video is for general informational purposes only. It should not be used to self-diagnose, and it is not a substitute for a medical exam, cure, treatment, diagnosis, prescription, or recommendation. It does not create a doctor-patient relationship between Dr. Berg and you. You should not make any change in your health regimen or diet before first consulting a physician and obtaining a medical exam, diagnosis, and recommendation. Always seek the advice of a physician or other qualified health provider with any questions you may have regarding a medical condition.\n\n#health #keto #ketodiet #weightloss #ketolifestyle #intermittentfasting #lowcarb \n\nThanks for watching! I hope you’ll contact your state senators and take action against this bill. I’ll see you in the next video.",
         "negative",
         "25959",
         null
        ],
        [
         "4",
         "1922969659550396664",
         "2025-05-15T10:57:48+00:00",
         "twitter",
         null,
         null,
         null,
         "INSANITY 🚨 Georgia Governor Brian Kemp SIGNED A PESTICIDE LIABILITY SHIELD\n\nFULL LIABILITY WAIVER protecting pesticide manufacturers, including Bayer (maker of Roundup) from lawsuits\n\n“Bad news coming out of the state of Georgia. The governor there just approved for pesticide https://t.co/w22TGOFnHY",
         "negative",
         "21914",
         null
        ],
        [
         "5",
         "1948048374286180852",
         "2025-07-23T15:51:40+00:00",
         "twitter",
         null,
         null,
         null,
         "Well, Section 453 was approved yesterday. \n\nIt provides pesticide companies, including giants like Bayer/Monsanto and Syngenta, with near-total protection from lawsuits, even when their products are later implicated in causing harm. \n\nThis is NOT making America great again! https://t.co/dQoPpDhX7c",
         "neutral",
         "19716",
         null
        ],
        [
         "6",
         "18271974751271940",
         "2025-02-18T17:45:45+00:00",
         "instagram",
         "17841401569094025",
         "Vani Hari | Food Babe",
         "https://www.instagram.com/thefoodbabe",
         "Bayer wants to keep this out of the public eye, so please SHARE THIS everywhere.\n\nThankfully because of the public outcry, Representative Dell Kerbs in Oklahoma pulled the bill in his state over the weekend!\n\nOur government should not be shielding pesticide companies from liability for poisoning Americans.",
         "negative",
         "18361",
         null
        ],
        [
         "7",
         "18042304307098097",
         "2025-02-15T11:00:00+00:00",
         "instagram",
         "17841400993243858",
         "Mark Hyman, M.D.",
         "https://www.instagram.com/drmarkhyman",
         "Glyphosate, the active ingredient in Roundup, is the most widely used herbicide in the world, sprayed heavily on conventional crops like wheat, oats, soy, and corn.\n\nWhile Bayer insists it’s safe, research tells a different story:\n\n- The International Agency for Research on Cancer (IARC) classified glyphosate as “probably carcinogenic to humans” in 2015.\n\n-A 2019 meta-analysis found that individuals with high glyphosate exposure had a 41% increased risk of non-Hodgkin lymphoma.\n\nWhile corporations and regulatory agencies debate its safety, we have the power to make better choices:\n\n- Choose organic when possible to minimize pesticide exposure.\n- Support regenerative farms that prioritize soil health over chemical use.\n- Wash produce thoroughly and opt for foods lower in pesticide residues (see EWG’s Dirty Dozen list).\n\nYour food is either fueling health or disease. What choices will you make today?\n\nPMCID: PMC6706269  NIHMSID: NIHMS1533189  PMID: 31342895",
         "neutral",
         "15345",
         null
        ],
        [
         "8",
         "108525343979507_1023818919836379",
         "2025-06-15T13:33:49+00:00",
         "facebook",
         "108525343979507",
         "Bayer Crop Science Pakistan",
         "https://www.facebook.com/BayerCropSciencePakistan",
         "دوست وہی جو کام آئے \nبائر کا اوبیرون اسپیڈ\n\nشدید گرمی اور پانی کی کمی  سے کماد کی فصل پر سفید اور سرخ جوئیں شدت سے حملہ آور ہوتی ہیں. \nمتاثرہ پتے پیلے یا سرخ ہوکر سوکھ جاتے ہیں اور فصل کی بڑھوتری رک جاتی ہے.  \n\nاگر آپ بھی اپنی فصل کو جوؤں سے پاک اور پیداوار کو محفوظ رکھنا چاہتے ہیں تو بائر کا اوبیرون اسپیڈ 100 ملی لیٹر فی ایکڑ ہالوکون نوزل سے بروقت اور لیبل پر درج ہدایات کے مطابق اسپرے کریں\n\n#Bayer #Cotton #sugarcane #Insecticide #OberonSpeed #Agriculture #Innovation #CropScience #Farming",
         "neutral",
         "15322",
         null
        ],
        [
         "9",
         "VZm4C1tiQlM",
         "2025-04-05T10:28:47+00:00",
         "youtube",
         "UC1DtEMePmr4O6F2do6BVl7A",
         "Rahul Gandhi",
         "https://www.youtube.com/channel/UC1DtEMePmr4O6F2do6BVl7A",
         "I recently met a family that runs HP Singh Fabrics in Delhi—deeply rooted in India’s textile legacy. From Andhra's Kalamkari and Ikkat to Gujarat’s Ajrak, Rajasthan’s Bagru, Bengal’s Jamdani, and the once world-renowned Indian Chintz—every 100 km in India reveals a new textile tradition, a new art form, and a new story. But behind the beauty lies a deeper challenge.\n\nToday, majority of India’s cotton is genetically modified BT cotton—controlled by foreign corporations like Monsanto. Our indigenous varieties are disappearing, our water usage is unsustainable, and our farmers remain underpaid. Despite being one of the largest cotton producers, India lags nearly 10 times behind China in textile exports.\n\nThe HP Singh family emphasized that India can reclaim its position as a global textile powerhouse—but only if we invest in indigenous cotton, build integrated textile zones, and create India-led global certification systems. Unlike countries like China and Bangladesh that thrive on vertical integration, India’s supply chains remain scattered and inefficient, driving up costs and pushing out the very farmers and weavers who built this industry.\n\nThis conversation isn’t just about fabric—it’s about respect, sustainability, and economic self-reliance. With the right infrastructure and dignity for every hand in the value chain, India can—and must—lead the global textile market once again.\n\n#rahulgandhi, #राहुल_गांधी, #textiles, #textilemarket  \n\n_\n\n• WhatsApp: https://whatsapp.com/channel/0029Va4UV6wEgGfQZv5KY12z   \n• YouTube: https://www.youtube.com/rahulgandhi \n• Facebook: https://www.facebook.com/rahulgandhi \n• Twitter: https://twitter.com/rahulgandhi \n• Instagram: https://www.instagram.com/rahulgandhi\n\n_\n\nⓒ Copyright and ownership of this audio-visual content belongs to Rahul Gandhi.\n \nAttribution — You must give full credit for use of this audio-visual content in the format specified hereinafter: “Source: Rahul Gandhi's YouTube Channel, @rahulgandhi”. The channel’s address must be both on the video itself as well as on related Print, Digital, and Social Media copy accompanying references to the audio-visual content.\n \nLimited Duration — You may not use this audio-visual content in its entirety. Usage of only up to 2 minutes of this audio-visual content with the aforementioned attribution clearly visible for the entire duration is permitted.\n \nNo Manipulation — Editing the audio-visual content in order to change the context/meaning or portray the content out of context is not permitted under any circumstances and will be liable to legal action.\n \nAll other rights are reserved.\n \nUse of the above content in a manner not specified above is a violation of the law.",
         "neutral",
         "13172",
         null
        ]
       ],
       "shape": {
        "columns": 10,
        "rows": 10
       }
      },
      "text/html": [
       "<div>\n",
       "<style scoped>\n",
       "    .dataframe tbody tr th:only-of-type {\n",
       "        vertical-align: middle;\n",
       "    }\n",
       "\n",
       "    .dataframe tbody tr th {\n",
       "        vertical-align: top;\n",
       "    }\n",
       "\n",
       "    .dataframe thead th {\n",
       "        text-align: right;\n",
       "    }\n",
       "</style>\n",
       "<table border=\"1\" class=\"dataframe\">\n",
       "  <thead>\n",
       "    <tr style=\"text-align: right;\">\n",
       "      <th></th>\n",
       "      <th>id</th>\n",
       "      <th>created_time</th>\n",
       "      <th>platform</th>\n",
       "      <th>author_id</th>\n",
       "      <th>author_name</th>\n",
       "      <th>author_url</th>\n",
       "      <th>message</th>\n",
       "      <th>sentiment</th>\n",
       "      <th>interactions</th>\n",
       "      <th>url</th>\n",
       "    </tr>\n",
       "  </thead>\n",
       "  <tbody>\n",
       "    <tr>\n",
       "      <th>0</th>\n",
       "      <td>18054880931182875</td>\n",
       "      <td>2025-04-12T11:00:00+00:00</td>\n",
       "      <td>instagram</td>\n",
       "      <td>17841400993243858</td>\n",
       "      <td>Mark Hyman, M.D.</td>\n",
       "      <td>https://www.instagram.com/drmarkhyman</td>\n",
       "      <td>Not all produce is created equal.\\n\\nThanks to...</td>\n",
       "      <td>negative</td>\n",
       "      <td>50864</td>\n",
       "      <td>None</td>\n",
       "    </tr>\n",
       "    <tr>\n",
       "      <th>1</th>\n",
       "      <td>18062456180184551</td>\n",
       "      <td>2025-07-11T10:52:30+00:00</td>\n",
       "      <td>instagram</td>\n",
       "      <td>17841404666905163</td>\n",
       "      <td>VERSUS</td>\n",
       "      <td>https://www.instagram.com/versus</td>\n",
       "      <td>New Balance and Bayer Leverkusen have gone two...</td>\n",
       "      <td>neutral</td>\n",
       "      <td>39783</td>\n",
       "      <td>None</td>\n",
       "    </tr>\n",
       "    <tr>\n",
       "      <th>2</th>\n",
       "      <td>18060552065069111</td>\n",
       "      <td>2025-03-19T17:26:48+00:00</td>\n",
       "      <td>instagram</td>\n",
       "      <td>17841400993243858</td>\n",
       "      <td>Mark Hyman, M.D.</td>\n",
       "      <td>https://www.instagram.com/drmarkhyman</td>\n",
       "      <td>Drop a YES👇for a link to this full conversatio...</td>\n",
       "      <td>negative</td>\n",
       "      <td>29395</td>\n",
       "      <td>None</td>\n",
       "    </tr>\n",
       "    <tr>\n",
       "      <th>3</th>\n",
       "      <td>UmAJrhsLub8</td>\n",
       "      <td>2025-08-03T10:00:43+00:00</td>\n",
       "      <td>youtube</td>\n",
       "      <td>UC3w193M5tYPJqF0Hi-7U-2g</td>\n",
       "      <td>Dr. Eric Berg DC</td>\n",
       "      <td>https://www.youtube.com/channel/UC3w193M5tYPJq...</td>\n",
       "      <td>Fight back against the pesticide immunity bill...</td>\n",
       "      <td>negative</td>\n",
       "      <td>25959</td>\n",
       "      <td>None</td>\n",
       "    </tr>\n",
       "    <tr>\n",
       "      <th>4</th>\n",
       "      <td>1922969659550396664</td>\n",
       "      <td>2025-05-15T10:57:48+00:00</td>\n",
       "      <td>twitter</td>\n",
       "      <td>None</td>\n",
       "      <td>None</td>\n",
       "      <td>None</td>\n",
       "      <td>INSANITY 🚨 Georgia Governor Brian Kemp SIGNED ...</td>\n",
       "      <td>negative</td>\n",
       "      <td>21914</td>\n",
       "      <td>None</td>\n",
       "    </tr>\n",
       "    <tr>\n",
       "      <th>5</th>\n",
       "      <td>1948048374286180852</td>\n",
       "      <td>2025-07-23T15:51:40+00:00</td>\n",
       "      <td>twitter</td>\n",
       "      <td>None</td>\n",
       "      <td>None</td>\n",
       "      <td>None</td>\n",
       "      <td>Well, Section 453 was approved yesterday. \\n\\n...</td>\n",
       "      <td>neutral</td>\n",
       "      <td>19716</td>\n",
       "      <td>None</td>\n",
       "    </tr>\n",
       "    <tr>\n",
       "      <th>6</th>\n",
       "      <td>18271974751271940</td>\n",
       "      <td>2025-02-18T17:45:45+00:00</td>\n",
       "      <td>instagram</td>\n",
       "      <td>17841401569094025</td>\n",
       "      <td>Vani Hari | Food Babe</td>\n",
       "      <td>https://www.instagram.com/thefoodbabe</td>\n",
       "      <td>Bayer wants to keep this out of the public eye...</td>\n",
       "      <td>negative</td>\n",
       "      <td>18361</td>\n",
       "      <td>None</td>\n",
       "    </tr>\n",
       "    <tr>\n",
       "      <th>7</th>\n",
       "      <td>18042304307098097</td>\n",
       "      <td>2025-02-15T11:00:00+00:00</td>\n",
       "      <td>instagram</td>\n",
       "      <td>17841400993243858</td>\n",
       "      <td>Mark Hyman, M.D.</td>\n",
       "      <td>https://www.instagram.com/drmarkhyman</td>\n",
       "      <td>Glyphosate, the active ingredient in Roundup, ...</td>\n",
       "      <td>neutral</td>\n",
       "      <td>15345</td>\n",
       "      <td>None</td>\n",
       "    </tr>\n",
       "    <tr>\n",
       "      <th>8</th>\n",
       "      <td>108525343979507_1023818919836379</td>\n",
       "      <td>2025-06-15T13:33:49+00:00</td>\n",
       "      <td>facebook</td>\n",
       "      <td>108525343979507</td>\n",
       "      <td>Bayer Crop Science Pakistan</td>\n",
       "      <td>https://www.facebook.com/BayerCropSciencePakistan</td>\n",
       "      <td>دوست وہی جو کام آئے \\nبائر کا اوبیرون اسپیڈ\\n\\...</td>\n",
       "      <td>neutral</td>\n",
       "      <td>15322</td>\n",
       "      <td>None</td>\n",
       "    </tr>\n",
       "    <tr>\n",
       "      <th>9</th>\n",
       "      <td>VZm4C1tiQlM</td>\n",
       "      <td>2025-04-05T10:28:47+00:00</td>\n",
       "      <td>youtube</td>\n",
       "      <td>UC1DtEMePmr4O6F2do6BVl7A</td>\n",
       "      <td>Rahul Gandhi</td>\n",
       "      <td>https://www.youtube.com/channel/UC1DtEMePmr4O6...</td>\n",
       "      <td>I recently met a family that runs HP Singh Fab...</td>\n",
       "      <td>neutral</td>\n",
       "      <td>13172</td>\n",
       "      <td>None</td>\n",
       "    </tr>\n",
       "  </tbody>\n",
       "</table>\n",
       "</div>"
      ],
      "text/plain": [
       "                                 id               created_time   platform  \\\n",
       "0                 18054880931182875  2025-04-12T11:00:00+00:00  instagram   \n",
       "1                 18062456180184551  2025-07-11T10:52:30+00:00  instagram   \n",
       "2                 18060552065069111  2025-03-19T17:26:48+00:00  instagram   \n",
       "3                       UmAJrhsLub8  2025-08-03T10:00:43+00:00    youtube   \n",
       "4               1922969659550396664  2025-05-15T10:57:48+00:00    twitter   \n",
       "5               1948048374286180852  2025-07-23T15:51:40+00:00    twitter   \n",
       "6                 18271974751271940  2025-02-18T17:45:45+00:00  instagram   \n",
       "7                 18042304307098097  2025-02-15T11:00:00+00:00  instagram   \n",
       "8  108525343979507_1023818919836379  2025-06-15T13:33:49+00:00   facebook   \n",
       "9                       VZm4C1tiQlM  2025-04-05T10:28:47+00:00    youtube   \n",
       "\n",
       "                  author_id                  author_name  \\\n",
       "0         17841400993243858             Mark Hyman, M.D.   \n",
       "1         17841404666905163                       VERSUS   \n",
       "2         17841400993243858             Mark Hyman, M.D.   \n",
       "3  UC3w193M5tYPJqF0Hi-7U-2g             Dr. Eric Berg DC   \n",
       "4                      None                         None   \n",
       "5                      None                         None   \n",
       "6         17841401569094025        Vani Hari | Food Babe   \n",
       "7         17841400993243858             Mark Hyman, M.D.   \n",
       "8           108525343979507  Bayer Crop Science Pakistan   \n",
       "9  UC1DtEMePmr4O6F2do6BVl7A                 Rahul Gandhi   \n",
       "\n",
       "                                          author_url  \\\n",
       "0              https://www.instagram.com/drmarkhyman   \n",
       "1                   https://www.instagram.com/versus   \n",
       "2              https://www.instagram.com/drmarkhyman   \n",
       "3  https://www.youtube.com/channel/UC3w193M5tYPJq...   \n",
       "4                                               None   \n",
       "5                                               None   \n",
       "6              https://www.instagram.com/thefoodbabe   \n",
       "7              https://www.instagram.com/drmarkhyman   \n",
       "8  https://www.facebook.com/BayerCropSciencePakistan   \n",
       "9  https://www.youtube.com/channel/UC1DtEMePmr4O6...   \n",
       "\n",
       "                                             message sentiment  interactions  \\\n",
       "0  Not all produce is created equal.\\n\\nThanks to...  negative         50864   \n",
       "1  New Balance and Bayer Leverkusen have gone two...   neutral         39783   \n",
       "2  Drop a YES👇for a link to this full conversatio...  negative         29395   \n",
       "3  Fight back against the pesticide immunity bill...  negative         25959   \n",
       "4  INSANITY 🚨 Georgia Governor Brian Kemp SIGNED ...  negative         21914   \n",
       "5  Well, Section 453 was approved yesterday. \\n\\n...   neutral         19716   \n",
       "6  Bayer wants to keep this out of the public eye...  negative         18361   \n",
       "7  Glyphosate, the active ingredient in Roundup, ...   neutral         15345   \n",
       "8  دوست وہی جو کام آئے \\nبائر کا اوبیرون اسپیڈ\\n\\...   neutral         15322   \n",
       "9  I recently met a family that runs HP Singh Fab...   neutral         13172   \n",
       "\n",
       "    url  \n",
       "0  None  \n",
       "1  None  \n",
       "2  None  \n",
       "3  None  \n",
       "4  None  \n",
       "5  None  \n",
       "6  None  \n",
       "7  None  \n",
       "8  None  \n",
       "9  None  "
      ]
     },
     "execution_count": 17,
     "metadata": {},
     "output_type": "execute_result"
    }
   ],
   "source": [
    "# convert posts to pandas dataframe:\n",
    "# ListeningPost(id='18054880931182875', created_time='2025-04-12T11:00:00+00:00', platform='instagram', author={'id': '17841400993243858', 'name': 'Mark Hyman, M.D.', 'url': 'https://www.instagram.com/drmarkhyman'}, message='Not all produce is created equal.\\n\\nThanks to companies like Bayer (who bought Monsanto, the makers of Roundup), our food system is flooded with pesticides—many of which are linked to hormone disruption, neurological damage, and cancer. \\n\\nIn fact, the main chemical in Roundup—glyphosate—was classified as a probable human carcinogen by the World Health Organization. And yet, it’s still sprayed on crops all over the U.S.\\n\\nHere’s the good news:\\nYou can reduce your exposure dramatically by following the EWG’s Dirty Dozen and Clean 15 lists.\\n\\n🧪 Dirty Dozen = the fruits and veggies with the highest pesticide residues. Always try to buy these organic if you can afford it. Note: these are still better than any ultra processed food.\\n🥑 Clean 15 = produce with natural protection (like a peel or husk), and generally safe to buy conventional.\\n\\nGeneral rule: If it has a thick peel—like an avocado or banana—it’s likely safer. If you eat the whole thing—like spinach or strawberries—go organic.\\n\\nSave this for your next grocery trip. Small swaps = big impact on your health.', sentiment='negative', interactions=50864, url=None)\n",
    "\n",
    "df_posts = pd.DataFrame([{\n",
    "    \"id\": post.id,\n",
    "    \"created_time\": post.created_time,\n",
    "    \"platform\": post.platform,\n",
    "    \"author_id\": post.author.get(\"id\"),\n",
    "    \"author_name\": post.author.get(\"name\"),\n",
    "    \"author_url\": post.author.get(\"url\"),\n",
    "    \"message\": post.message,\n",
    "    \"sentiment\": post.sentiment,\n",
    "    \"interactions\": post.interactions,\n",
    "    \"url\": post.url\n",
    "} for post in posts])\n",
    "\n",
    "df_posts"
   ]
  },
  {
   "cell_type": "markdown",
   "id": "a5259975",
   "metadata": {},
   "source": [
    "## Test Metrics Retrieval"
   ]
  },
  {
   "cell_type": "code",
   "execution_count": 19,
   "id": "575deab5",
   "metadata": {},
   "outputs": [
    {
     "name": "stdout",
     "output_type": "stream",
     "text": [
      "     📊 1 data points\n"
     ]
    }
   ],
   "source": [
    "metric_type = \"authors\"\n",
    "\n",
    "metrics = await fetch_listening_metrics(\n",
    "                    query_ids=[TARGET_QUERY_ID],\n",
    "                    date_start=start_date,\n",
    "                    date_end=end_date,\n",
    "                    metrics=[MetricConfig(metric=metric_type)],  # Use CORRECT format: metric=\n",
    "                )\n",
    "\n",
    "data_points = len(metrics.data) if metrics.data else 0\n",
    "\n",
    "print(f\"     📊 {data_points} data points\")"
   ]
  },
  {
   "cell_type": "code",
   "execution_count": null,
   "id": "e5386a4f",
   "metadata": {},
   "outputs": [],
   "source": []
  }
 ],
 "metadata": {
  "kernelspec": {
   "display_name": "mcp-server-template",
   "language": "python",
   "name": "python3"
  },
  "language_info": {
   "codemirror_mode": {
    "name": "ipython",
    "version": 3
   },
   "file_extension": ".py",
   "mimetype": "text/x-python",
   "name": "python",
   "nbconvert_exporter": "python",
   "pygments_lexer": "ipython3",
   "version": "3.13.3"
  }
 },
 "nbformat": 4,
 "nbformat_minor": 5
}
