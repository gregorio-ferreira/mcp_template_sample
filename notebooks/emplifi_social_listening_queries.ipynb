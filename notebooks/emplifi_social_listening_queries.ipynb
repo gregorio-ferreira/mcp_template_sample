{
 "cells": [
  {
   "cell_type": "code",
   "execution_count": 1,
   "id": "c79c47dd",
   "metadata": {},
   "outputs": [],
   "source": [
    "import pandas as pd"
   ]
  },
  {
   "cell_type": "code",
   "execution_count": 2,
   "id": "720226a3",
   "metadata": {},
   "outputs": [
    {
     "data": {
      "application/vnd.microsoft.datawrangler.viewer.v0+json": {
       "columns": [
        {
         "name": "index",
         "rawType": "int64",
         "type": "integer"
        },
        {
         "name": "id",
         "rawType": "object",
         "type": "string"
        },
        {
         "name": "name",
         "rawType": "object",
         "type": "string"
        },
        {
         "name": "description",
         "rawType": "float64",
         "type": "float"
        },
        {
         "name": "status",
         "rawType": "object",
         "type": "string"
        }
       ],
       "ref": "329ae7f1-1c22-45d8-94a9-893b270fbc23",
       "rows": [
        [
         "0",
         "LNQ_1140092_641afbbd98a766f5eb4a4915",
         "Syngenta Flowers",
         null,
         "Running"
        ],
        [
         "1",
         "LNQ_1140092_6433af2612abdcc89485af76",
         "Canada Seedcare Products",
         null,
         "Running"
        ],
        [
         "2",
         "LNQ_1140092_644a178fa2cd1efe2f4427b6",
         "Bettina PQT 2025",
         null,
         "Running"
        ],
        [
         "3",
         "LNQ_1140092_6450290f66aaefdf461ee521",
         "Canada Herbicides ",
         null,
         "Running"
        ],
        [
         "4",
         "LNQ_1140092_64502c2d85a9bb0da5823d90",
         "Canada Fungicides ",
         null,
         "Running"
        ],
        [
         "5",
         "LNQ_1140092_64502cd885a9bb0da5823d92",
         "Canada PGR",
         null,
         "Running"
        ],
        [
         "6",
         "LNQ_1140092_6454e3dc5e125f4167d205cc",
         "Elestal Neo",
         null,
         "Running"
        ],
        [
         "7",
         "LNQ_1140092_645b2049e71a3657e51769c7",
         "ToBRFV ",
         null,
         "Running"
        ],
        [
         "8",
         "LNQ_1140092_645e55da62d6100f3dbd4da0",
         "Сингента Україна v2",
         null,
         "Running"
        ],
        [
         "9",
         "LNQ_1140092_646b43736fd3b79dadda06e7",
         "Orondis Turkey",
         null,
         "Running"
        ],
        [
         "10",
         "LNQ_1140092_6474903b6fd3b79dadda0b18",
         "Competitors ",
         null,
         "Running"
        ],
        [
         "11",
         "LNQ_1140092_649092851e06aeee5c50ff7d",
         "NK Seeds Thailand (Syngenta)",
         null,
         "Running"
        ],
        [
         "12",
         "LNQ_1140092_6495a9c1d0bf38fa24bb2c69",
         "AI human incidents  - Yang_v2",
         null,
         "Running"
        ],
        [
         "13",
         "LNQ_1140092_64991a4b92ad1346ae4078e9",
         "Miravis Forte / Adepidyn CI",
         null,
         "Running"
        ],
        [
         "14",
         "LNQ_1140092_64a51f860fe13d3fb46d9cf4",
         "Syngenta Hellas",
         null,
         "Running"
        ],
        [
         "15",
         "LNQ_1140092_64afbb4dcea978b71e64356b",
         "Seedcare - Ukraine",
         null,
         "Running"
        ],
        [
         "16",
         "LNQ_1140092_64b01aaccea978b71e6435d2",
         "Soja Paraguay",
         null,
         "Running"
        ],
        [
         "17",
         "LNQ_1140092_64b5d5ee25d359f304e5c364",
         "Syngenta Flowers Americas/North America",
         null,
         "Running"
        ],
        [
         "18",
         "LNQ_1140092_64eef510e93369dede230d8f",
         "Syngenta Polska Mentions",
         null,
         "Running"
        ],
        [
         "19",
         "LNQ_1140092_64f83f7c54ef652d28f44fa8",
         "EAME Seeds - English",
         null,
         "Running"
        ],
        [
         "20",
         "LNQ_1140092_65110c4e870673c415d943b9",
         "Entomologist",
         null,
         "Running"
        ],
        [
         "21",
         "LNQ_1140092_6516859bee15ebe3caf11114",
         "VANIVA® Campaign ",
         null,
         "Running"
        ],
        [
         "22",
         "LNQ_1140092_65169f2e093ccc177bd01503",
         "Victrato",
         null,
         "Running"
        ],
        [
         "23",
         "LNQ_1140092_654b549796d2041d7202560c",
         "FRANCE 1 - Field crop growers_v2",
         null,
         "Running"
        ],
        [
         "24",
         "LNQ_1140092_655b7e3e918b08e32ab7fa35",
         "Golf - Spiio Competitors",
         null,
         "Running"
        ],
        [
         "25",
         "LNQ_1140092_655b7ebcd7ff4f075d7c265d",
         "Golf - Spiio",
         null,
         "Running"
        ],
        [
         "26",
         "LNQ_1140092_6568baaf2e05f921fe6744da",
         "Turf Competitors - Bettina",
         null,
         "Running"
        ],
        [
         "27",
         "LNQ_1140092_6569b830918b08e32ab80239",
         "Golf and Sustainability",
         null,
         "Running"
        ],
        [
         "28",
         "LNQ_1140092_65a15e030b47c97826914bef",
         "Suicidal toxicology",
         null,
         "Running"
        ],
        [
         "29",
         "LNQ_1140092_65c0d8c08015da6f4204b393",
         "Impurities 2",
         null,
         "Running"
        ],
        [
         "30",
         "LNQ_1140092_65c0fd270b47c97826916ac7",
         "Biologicals - Murat Brand v3",
         null,
         "Running"
        ],
        [
         "31",
         "LNQ_1140092_65c33c558015da6f4204b4bd",
         "Syngenta AND (“Pesticidi, l'ipocrisia europea” OR Pesticidi)",
         null,
         "Running"
        ],
        [
         "32",
         "LNQ_1140092_65c3a5820b47c97826916c7e",
         "Orondis Potato ",
         null,
         "Running"
        ],
        [
         "33",
         "LNQ_1140092_65c3aeab8015da6f4204b542",
         "BT Traits",
         null,
         "Running"
        ],
        [
         "34",
         "LNQ_1140092_65ccaf9d4cab1f785b4f4166",
         "New Technologies Sustainable Food Production",
         null,
         "Running"
        ],
        [
         "35",
         "LNQ_1140092_65d61fe2e229d3b61eaf25c1",
         "Bio 2024 - English",
         null,
         "Running"
        ],
        [
         "36",
         "LNQ_1140092_65e8680625b5b2c6d1771cf7",
         "PFAS (“forever chemicals”)",
         null,
         "Running"
        ],
        [
         "37",
         "LNQ_1140092_65f978e9c2892429b946bfc3",
         "MIRAVIS® Prime -  MX Influencers",
         null,
         "Running"
        ],
        [
         "38",
         "LNQ_1140092_65fad7fcd500d62c8c1e6405",
         "DDG - Cropwise Seed Selector",
         null,
         "Running"
        ],
        [
         "39",
         "LNQ_1140092_66029c702fef9f6b9842cf79",
         "@syngentafrance",
         null,
         "Running"
        ],
        [
         "40",
         "LNQ_1140092_660a8ac6dc7bda8c8efdc9bf",
         "Syngenta Veg Seeds - US_v2",
         null,
         "Running"
        ],
        [
         "41",
         "LNQ_1140092_660abd1c38ba2665da34be30",
         "EAME Seeds RO - Corn",
         null,
         "Running"
        ],
        [
         "42",
         "LNQ_1140092_660ac6caa51ea5f33351a705",
         "Romania - Sunflowers",
         null,
         "Running"
        ],
        [
         "43",
         "LNQ_1140092_6617efb3a51ea5f33351ae0d",
         "EAME Poland - Seed Selector_v2",
         null,
         "Running"
        ],
        [
         "44",
         "LNQ_1140092_66194b7538ba2665da34c608",
         "MIRAVIS® UK",
         null,
         "Running"
        ],
        [
         "45",
         "LNQ_1140092_661e2eccdc7bda8c8efdd3bd",
         "EAME Seeds - Poland Competitors",
         null,
         "Running"
        ],
        [
         "46",
         "LNQ_1140092_661e403adc7bda8c8efdd3db",
         "EAME Seed Selector - Hungary",
         null,
         "Running"
        ],
        [
         "47",
         "LNQ_1140092_661e529cdc7bda8c8efdd3e7",
         "Romania - Seed Selector",
         null,
         "Running"
        ],
        [
         "48",
         "LNQ_1140092_662fb121421aec2cc13d76fd",
         "Kato Keywords_Argentina",
         null,
         "Running"
        ],
        [
         "49",
         "LNQ_1140092_664e26787741186f9ba451f5",
         "Golden Harvest ",
         null,
         "Running"
        ]
       ],
       "shape": {
        "columns": 4,
        "rows": 286
       }
      },
      "text/html": [
       "<div>\n",
       "<style scoped>\n",
       "    .dataframe tbody tr th:only-of-type {\n",
       "        vertical-align: middle;\n",
       "    }\n",
       "\n",
       "    .dataframe tbody tr th {\n",
       "        vertical-align: top;\n",
       "    }\n",
       "\n",
       "    .dataframe thead th {\n",
       "        text-align: right;\n",
       "    }\n",
       "</style>\n",
       "<table border=\"1\" class=\"dataframe\">\n",
       "  <thead>\n",
       "    <tr style=\"text-align: right;\">\n",
       "      <th></th>\n",
       "      <th>id</th>\n",
       "      <th>name</th>\n",
       "      <th>description</th>\n",
       "      <th>status</th>\n",
       "    </tr>\n",
       "  </thead>\n",
       "  <tbody>\n",
       "    <tr>\n",
       "      <th>0</th>\n",
       "      <td>LNQ_1140092_641afbbd98a766f5eb4a4915</td>\n",
       "      <td>Syngenta Flowers</td>\n",
       "      <td>NaN</td>\n",
       "      <td>Running</td>\n",
       "    </tr>\n",
       "    <tr>\n",
       "      <th>1</th>\n",
       "      <td>LNQ_1140092_6433af2612abdcc89485af76</td>\n",
       "      <td>Canada Seedcare Products</td>\n",
       "      <td>NaN</td>\n",
       "      <td>Running</td>\n",
       "    </tr>\n",
       "    <tr>\n",
       "      <th>2</th>\n",
       "      <td>LNQ_1140092_644a178fa2cd1efe2f4427b6</td>\n",
       "      <td>Bettina PQT 2025</td>\n",
       "      <td>NaN</td>\n",
       "      <td>Running</td>\n",
       "    </tr>\n",
       "    <tr>\n",
       "      <th>3</th>\n",
       "      <td>LNQ_1140092_6450290f66aaefdf461ee521</td>\n",
       "      <td>Canada Herbicides</td>\n",
       "      <td>NaN</td>\n",
       "      <td>Running</td>\n",
       "    </tr>\n",
       "    <tr>\n",
       "      <th>4</th>\n",
       "      <td>LNQ_1140092_64502c2d85a9bb0da5823d90</td>\n",
       "      <td>Canada Fungicides</td>\n",
       "      <td>NaN</td>\n",
       "      <td>Running</td>\n",
       "    </tr>\n",
       "    <tr>\n",
       "      <th>...</th>\n",
       "      <td>...</td>\n",
       "      <td>...</td>\n",
       "      <td>...</td>\n",
       "      <td>...</td>\n",
       "    </tr>\n",
       "    <tr>\n",
       "      <th>281</th>\n",
       "      <td>LNQ_1140092_6800d9c5186d752f8bc0e8c1</td>\n",
       "      <td>Syngenta Romania Seeds Quality</td>\n",
       "      <td>NaN</td>\n",
       "      <td>Regulated</td>\n",
       "    </tr>\n",
       "    <tr>\n",
       "      <th>282</th>\n",
       "      <td>LNQ_1140092_6811d47b9a18a4df33692c5c</td>\n",
       "      <td>Syngenta Japan Herbicide product name listening</td>\n",
       "      <td>NaN</td>\n",
       "      <td>Regulated</td>\n",
       "    </tr>\n",
       "    <tr>\n",
       "      <th>283</th>\n",
       "      <td>LNQ_1140092_683058cef885688f1928a1ce</td>\n",
       "      <td>UK Farmers - Biologicals_v2</td>\n",
       "      <td>NaN</td>\n",
       "      <td>Regulated</td>\n",
       "    </tr>\n",
       "    <tr>\n",
       "      <th>284</th>\n",
       "      <td>LNQ_1140092_6879094b0c122ac022d6e424</td>\n",
       "      <td>br_soberano_alerta</td>\n",
       "      <td>NaN</td>\n",
       "      <td>Regulated</td>\n",
       "    </tr>\n",
       "    <tr>\n",
       "      <th>285</th>\n",
       "      <td>LNQ_1140092_687a87d412c950b4b2c663ea</td>\n",
       "      <td>br_seeker_trigo v2</td>\n",
       "      <td>NaN</td>\n",
       "      <td>Regulated</td>\n",
       "    </tr>\n",
       "  </tbody>\n",
       "</table>\n",
       "<p>286 rows × 4 columns</p>\n",
       "</div>"
      ],
      "text/plain": [
       "                                       id  \\\n",
       "0    LNQ_1140092_641afbbd98a766f5eb4a4915   \n",
       "1    LNQ_1140092_6433af2612abdcc89485af76   \n",
       "2    LNQ_1140092_644a178fa2cd1efe2f4427b6   \n",
       "3    LNQ_1140092_6450290f66aaefdf461ee521   \n",
       "4    LNQ_1140092_64502c2d85a9bb0da5823d90   \n",
       "..                                    ...   \n",
       "281  LNQ_1140092_6800d9c5186d752f8bc0e8c1   \n",
       "282  LNQ_1140092_6811d47b9a18a4df33692c5c   \n",
       "283  LNQ_1140092_683058cef885688f1928a1ce   \n",
       "284  LNQ_1140092_6879094b0c122ac022d6e424   \n",
       "285  LNQ_1140092_687a87d412c950b4b2c663ea   \n",
       "\n",
       "                                                name  description     status  \n",
       "0                                   Syngenta Flowers          NaN    Running  \n",
       "1                           Canada Seedcare Products          NaN    Running  \n",
       "2                                   Bettina PQT 2025          NaN    Running  \n",
       "3                                 Canada Herbicides           NaN    Running  \n",
       "4                                 Canada Fungicides           NaN    Running  \n",
       "..                                               ...          ...        ...  \n",
       "281                   Syngenta Romania Seeds Quality          NaN  Regulated  \n",
       "282  Syngenta Japan Herbicide product name listening          NaN  Regulated  \n",
       "283                      UK Farmers - Biologicals_v2          NaN  Regulated  \n",
       "284                               br_soberano_alerta          NaN  Regulated  \n",
       "285                               br_seeker_trigo v2          NaN  Regulated  \n",
       "\n",
       "[286 rows x 4 columns]"
      ]
     },
     "execution_count": 2,
     "metadata": {},
     "output_type": "execute_result"
    }
   ],
   "source": [
    "listening_queries = pd.read_csv(\"/home/gferreir/mines/emplifi_listening_api/data/emplifi_listening_queries.csv\")\n",
    "listening_queries"
   ]
  },
  {
   "cell_type": "code",
   "execution_count": null,
   "id": "8130f841",
   "metadata": {},
   "outputs": [],
   "source": []
  }
 ],
 "metadata": {
  "kernelspec": {
   "display_name": "mcp-server-template",
   "language": "python",
   "name": "python3"
  },
  "language_info": {
   "codemirror_mode": {
    "name": "ipython",
    "version": 3
   },
   "file_extension": ".py",
   "mimetype": "text/x-python",
   "name": "python",
   "nbconvert_exporter": "python",
   "pygments_lexer": "ipython3",
   "version": "3.13.3"
  }
 },
 "nbformat": 4,
 "nbformat_minor": 5
}
